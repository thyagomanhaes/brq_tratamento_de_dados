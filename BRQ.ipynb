{
 "cells": [
  {
   "cell_type": "markdown",
   "metadata": {},
   "source": [
    "Importar o conjunto de dados presentes na pasta **\"bases\"**"
   ]
  },
  {
   "cell_type": "code",
   "execution_count": 71,
   "metadata": {},
   "outputs": [],
   "source": [
    "import pandas as pd\n",
    "\n",
    "df = pd.read_csv('airbnb_ny_2019.csv')\n",
    "df_viz = pd.read_csv('mapeamento_vizinhanca.csv', error_bad_lines=False, sep=';')\n"
   ]
  },
  {
   "cell_type": "markdown",
   "metadata": {},
   "source": [
    "**Remover linhas duplicadas**"
   ]
  },
  {
   "cell_type": "code",
   "execution_count": 73,
   "metadata": {
    "scrolled": true
   },
   "outputs": [],
   "source": [
    "df_without_duplicates = df.drop_duplicates()"
   ]
  },
  {
   "cell_type": "markdown",
   "metadata": {},
   "source": [
    "**Remover linhas com valores nulos**"
   ]
  },
  {
   "cell_type": "code",
   "execution_count": 75,
   "metadata": {},
   "outputs": [],
   "source": [
    "df1 = df_without_duplicates.dropna()"
   ]
  },
  {
   "cell_type": "markdown",
   "metadata": {},
   "source": [
    "Juntar as **bases airbnb_ny_2019** e **mapeamento_vizinhanca** através de um join (**neighbourhood** <-> **vizinhanca**)"
   ]
  },
  {
   "cell_type": "code",
   "execution_count": 84,
   "metadata": {
    "scrolled": true
   },
   "outputs": [],
   "source": [
    "residencias = df1.merge(df_viz, left_on='neighbourhood', right_on='vizinhanca',\n",
    "          suffixes=('_left', '_right'))"
   ]
  },
  {
   "cell_type": "markdown",
   "metadata": {},
   "source": [
    "Remover a coluna **vizinhanca** após o join"
   ]
  },
  {
   "cell_type": "code",
   "execution_count": 85,
   "metadata": {},
   "outputs": [],
   "source": [
    "residencias = residencias.drop(columns=['vizinhanca'])"
   ]
  },
  {
   "cell_type": "markdown",
   "metadata": {},
   "source": [
    "Trocar o nome da coluna de **vizinhanca_grupo** para **neighbourhood_group**"
   ]
  },
  {
   "cell_type": "code",
   "execution_count": 86,
   "metadata": {},
   "outputs": [],
   "source": [
    " residencias = residencias.rename(columns={\"vizinhanca_grupo\": \"neighbourhood_group\"})"
   ]
  },
  {
   "cell_type": "markdown",
   "metadata": {},
   "source": [
    "Filtre a coluna neighbourhood_group e mantenha apenas os valores 'Brooklyn', 'Manhattan', 'Queens', 'Staten Island'"
   ]
  },
  {
   "cell_type": "code",
   "execution_count": 87,
   "metadata": {},
   "outputs": [],
   "source": [
    "neighbourhood_groups = ['Brooklyn', 'Manhattan', 'Queens', 'Staten Island']\n",
    "df_residencias = residencias[ residencias['neighbourhood_group'].isin(neighbourhood_groups)]"
   ]
  },
  {
   "cell_type": "markdown",
   "metadata": {},
   "source": [
    "Após todos os filtros mencionados acima, gere uma base chamada residencias.csv"
   ]
  },
  {
   "cell_type": "code",
   "execution_count": 95,
   "metadata": {},
   "outputs": [],
   "source": [
    "df_residencias.to_csv('residencias.csv')"
   ]
  },
  {
   "cell_type": "markdown",
   "metadata": {},
   "source": [
    "A partir da base **residencias.csv**, gere também uma base **media_preco.csv** com a média de preços por tipo de quarto (coluna room_type) e grupo do bairro (coluna neighbourhood_group)"
   ]
  },
  {
   "cell_type": "code",
   "execution_count": 98,
   "metadata": {},
   "outputs": [
    {
     "data": {
      "text/html": [
       "<div>\n",
       "<style scoped>\n",
       "    .dataframe tbody tr th:only-of-type {\n",
       "        vertical-align: middle;\n",
       "    }\n",
       "\n",
       "    .dataframe tbody tr th {\n",
       "        vertical-align: top;\n",
       "    }\n",
       "\n",
       "    .dataframe thead th {\n",
       "        text-align: right;\n",
       "    }\n",
       "</style>\n",
       "<table border=\"1\" class=\"dataframe\">\n",
       "  <thead>\n",
       "    <tr style=\"text-align: right;\">\n",
       "      <th></th>\n",
       "      <th>room_type</th>\n",
       "      <th>price</th>\n",
       "    </tr>\n",
       "    <tr>\n",
       "      <th>neighbourhood_group</th>\n",
       "      <th></th>\n",
       "      <th></th>\n",
       "    </tr>\n",
       "  </thead>\n",
       "  <tbody>\n",
       "    <tr>\n",
       "      <th>Brooklyn</th>\n",
       "      <td>Entire home/apt</td>\n",
       "      <td>171.281897</td>\n",
       "    </tr>\n",
       "    <tr>\n",
       "      <th>Brooklyn</th>\n",
       "      <td>Private room</td>\n",
       "      <td>73.349562</td>\n",
       "    </tr>\n",
       "    <tr>\n",
       "      <th>Brooklyn</th>\n",
       "      <td>Shared room</td>\n",
       "      <td>45.458621</td>\n",
       "    </tr>\n",
       "    <tr>\n",
       "      <th>Manhattan</th>\n",
       "      <td>Entire home/apt</td>\n",
       "      <td>230.200964</td>\n",
       "    </tr>\n",
       "    <tr>\n",
       "      <th>Manhattan</th>\n",
       "      <td>Private room</td>\n",
       "      <td>106.607488</td>\n",
       "    </tr>\n",
       "    <tr>\n",
       "      <th>Manhattan</th>\n",
       "      <td>Shared room</td>\n",
       "      <td>77.980337</td>\n",
       "    </tr>\n",
       "    <tr>\n",
       "      <th>Queens</th>\n",
       "      <td>Entire home/apt</td>\n",
       "      <td>139.225603</td>\n",
       "    </tr>\n",
       "    <tr>\n",
       "      <th>Queens</th>\n",
       "      <td>Private room</td>\n",
       "      <td>69.302838</td>\n",
       "    </tr>\n",
       "    <tr>\n",
       "      <th>Queens</th>\n",
       "      <td>Shared room</td>\n",
       "      <td>64.467105</td>\n",
       "    </tr>\n",
       "    <tr>\n",
       "      <th>Staten Island</th>\n",
       "      <td>Entire home/apt</td>\n",
       "      <td>125.366667</td>\n",
       "    </tr>\n",
       "    <tr>\n",
       "      <th>Staten Island</th>\n",
       "      <td>Private room</td>\n",
       "      <td>57.584906</td>\n",
       "    </tr>\n",
       "    <tr>\n",
       "      <th>Staten Island</th>\n",
       "      <td>Shared room</td>\n",
       "      <td>57.600000</td>\n",
       "    </tr>\n",
       "  </tbody>\n",
       "</table>\n",
       "</div>"
      ],
      "text/plain": [
       "                           room_type       price\n",
       "neighbourhood_group                             \n",
       "Brooklyn             Entire home/apt  171.281897\n",
       "Brooklyn                Private room   73.349562\n",
       "Brooklyn                 Shared room   45.458621\n",
       "Manhattan            Entire home/apt  230.200964\n",
       "Manhattan               Private room  106.607488\n",
       "Manhattan                Shared room   77.980337\n",
       "Queens               Entire home/apt  139.225603\n",
       "Queens                  Private room   69.302838\n",
       "Queens                   Shared room   64.467105\n",
       "Staten Island        Entire home/apt  125.366667\n",
       "Staten Island           Private room   57.584906\n",
       "Staten Island            Shared room   57.600000"
      ]
     },
     "execution_count": 98,
     "metadata": {},
     "output_type": "execute_result"
    }
   ],
   "source": [
    "new_df = pd.read_csv('residencias.csv')\n",
    "media_preco = new_df.groupby(['neighbourhood_group','room_type'])['price'].mean().reset_index()\n",
    "media_preco = media_preco.set_index('neighbourhood_group')\n",
    "media_preco.to_csv('media_preco.csv')"
   ]
  },
  {
   "cell_type": "markdown",
   "metadata": {},
   "source": []
  }
 ],
 "metadata": {
  "kernelspec": {
   "display_name": "Python 3",
   "language": "python",
   "name": "python3"
  },
  "language_info": {
   "codemirror_mode": {
    "name": "ipython",
    "version": 3
   },
   "file_extension": ".py",
   "mimetype": "text/x-python",
   "name": "python",
   "nbconvert_exporter": "python",
   "pygments_lexer": "ipython3",
   "version": "3.7.6"
  }
 },
 "nbformat": 4,
 "nbformat_minor": 4
}
